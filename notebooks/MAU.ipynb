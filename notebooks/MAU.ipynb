{
 "cells": [
  {
   "cell_type": "code",
   "execution_count": 1,
   "metadata": {},
   "outputs": [],
   "source": [
    "import datetime\n",
    "from datetime import date\n",
    "from pymongo import MongoClient"
   ]
  },
  {
   "cell_type": "code",
   "execution_count": 2,
   "metadata": {},
   "outputs": [],
   "source": [
    "client = MongoClient()\n",
    "db = client.HackerNews"
   ]
  },
  {
   "cell_type": "code",
   "execution_count": 3,
   "metadata": {},
   "outputs": [],
   "source": [
    "hn_2018 = db.hn_2018\n",
    "hn_2017 = db.hn_2017\n",
    "hn_2016 = db.hn_2016"
   ]
  },
  {
   "cell_type": "code",
   "execution_count": 4,
   "metadata": {},
   "outputs": [],
   "source": [
    "months = ['jan', 'feb', 'mar', 'apr', 'may', 'jun', 'jul', 'aug', 'sep', 'oct', 'nov', 'dec']\n",
    "years = ['2016', '2017', '2018']\n",
    "collections = [hn_2016, hn_2017, hn_2018]"
   ]
  },
  {
   "cell_type": "code",
   "execution_count": 5,
   "metadata": {},
   "outputs": [
    {
     "name": "stdout",
     "output_type": "stream",
     "text": [
      "=== Year 2016 ===\n",
      "jan 2016-01-01 1451606400\n",
      "feb 2016-02-01 1454284800\n",
      "mar 2016-03-01 1456790400\n",
      "apr 2016-04-01 1459468800\n",
      "may 2016-05-01 1462060800\n",
      "jun 2016-06-01 1464739200\n",
      "jul 2016-07-01 1467331200\n",
      "aug 2016-08-01 1470009600\n",
      "sep 2016-09-01 1472688000\n",
      "oct 2016-10-01 1475280000\n",
      "nov 2016-11-01 1477958400\n",
      "dec 2016-12-01 1480550400\n",
      "=== Year 2017 ===\n",
      "jan 2017-01-01 1483228800\n",
      "feb 2017-02-01 1485907200\n",
      "mar 2017-03-01 1488326400\n",
      "apr 2017-04-01 1491004800\n",
      "may 2017-05-01 1493596800\n",
      "jun 2017-06-01 1496275200\n",
      "jul 2017-07-01 1498867200\n",
      "aug 2017-08-01 1501545600\n",
      "sep 2017-09-01 1504224000\n",
      "oct 2017-10-01 1506816000\n",
      "nov 2017-11-01 1509494400\n",
      "dec 2017-12-01 1512086400\n",
      "=== Year 2018 ===\n",
      "jan 2018-01-01 1514764800\n",
      "feb 2018-02-01 1517443200\n",
      "mar 2018-03-01 1519862400\n",
      "apr 2018-04-01 1522540800\n",
      "may 2018-05-01 1525132800\n",
      "jun 2018-06-01 1527811200\n",
      "jul 2018-07-01 1530403200\n",
      "aug 2018-08-01 1533081600\n",
      "sep 2018-09-01 1535760000\n",
      "oct 2018-10-01 1538352000\n",
      "nov 2018-11-01 1541030400\n",
      "dec 2018-12-01 1543622400\n"
     ]
    }
   ],
   "source": [
    "'''\n",
    "timestamp 1451606400 means:\n",
    "In your local time zone: Friday 1st January 2016 08:00:00 AM\n",
    "UTC: Friday 1st January 2016 12:00:00 AM\n",
    "'''\n",
    "for year in years:\n",
    "    print(\"=== Year {} ===\".format(year))\n",
    "    for i in range(len(months)):\n",
    "        if i == 12:\n",
    "            print(i)\n",
    "            print(months[i%12], date(int(year)+1,i%12,1), int((date(int(year) + 1,i%12,1)- date(1970,1,1)).total_seconds()))\n",
    "        else:\n",
    "            print(months[i], date(int(year),i+1,1), int((date(int(year),i+1,1)- date(1970,1,1)).total_seconds()))\n",
    "    "
   ]
  },
  {
   "cell_type": "code",
   "execution_count": 10,
   "metadata": {
    "scrolled": true
   },
   "outputs": [
    {
     "name": "stdout",
     "output_type": "stream",
     "text": [
      "=== Year 2016 ===\n",
      "jan 2016-01-01 MAU: 31115\n",
      "feb 2016-02-01 MAU: 32010\n",
      "mar 2016-03-01 MAU: 33574\n",
      "apr 2016-04-01 MAU: 33165\n",
      "may 2016-05-01 MAU: 33096\n",
      "jun 2016-06-01 MAU: 33035\n",
      "jul 2016-07-01 MAU: 31478\n",
      "aug 2016-08-01 MAU: 32708\n",
      "sep 2016-09-01 MAU: 33504\n",
      "oct 2016-10-01 MAU: 35150\n",
      "nov 2016-11-01 MAU: 36364\n",
      "dec 2017-11-01 MAU: 34491\n",
      "=== Year 2017 ===\n",
      "jan 2017-01-01 MAU: 37146\n",
      "feb 2017-02-01 MAU: 35940\n",
      "mar 2017-03-01 MAU: 37774\n",
      "apr 2017-04-01 MAU: 35862\n",
      "may 2017-05-01 MAU: 35911\n",
      "jun 2017-06-01 MAU: 35361\n",
      "jul 2017-07-01 MAU: 35978\n",
      "aug 2017-08-01 MAU: 37112\n",
      "sep 2017-09-01 MAU: 35801\n",
      "oct 2017-10-01 MAU: 35957\n",
      "nov 2017-11-01 MAU: 36066\n",
      "dec 2018-11-01 MAU: 34888\n",
      "=== Year 2018 ===\n",
      "jan 2018-01-01 MAU: 36103\n",
      "feb 2018-02-01 MAU: 34280\n",
      "mar 2018-03-01 MAU: 37067\n",
      "apr 2018-04-01 MAU: 36904\n",
      "may 2018-05-01 MAU: 36362\n",
      "jun 2018-06-01 MAU: 36264\n",
      "jul 2018-07-01 MAU: 35837\n",
      "aug 2018-08-01 MAU: 36020\n",
      "sep 2018-09-01 MAU: 17104\n",
      "oct 2018-10-01 MAU: 0\n",
      "nov 2018-11-01 MAU: 0\n",
      "dec 2019-11-01 MAU: 0\n"
     ]
    }
   ],
   "source": [
    "year_count = 0\n",
    "maus = []\n",
    "for year in years:\n",
    "    \n",
    "    print(\"=== Year {} ===\".format(year))\n",
    "    mau = []\n",
    "    for i in range(len(months)):\n",
    "#         print(collections[year_count])\n",
    "        cursor = collections[year_count].find()\n",
    "#         print(cursor)\n",
    "        if i == 11:\n",
    "            start_time = int((date(int(year),12,1)- date(1970,1,1)).total_seconds())\n",
    "            end_time = int((date(int(year) + 1,1,1)- date(1970,1,1)).total_seconds())\n",
    "#             print(start_time, end_time)\n",
    "            temp = []\n",
    "            for j in cursor:\n",
    "                if int(j['time']) > start_time and int(j['time']) < end_time:\n",
    "                    temp.append(j)\n",
    "            usr_profiles = set([i['by'] for i in temp])\n",
    "            mau.append(len(usr_profiles))\n",
    "            print(\"{} {} MAU: {}\".format(months[12], date(int(year),12,1), len(usr_profiles))) \n",
    "        else:\n",
    "            start_time = int(((date(int(year), i+1, 1)) - date(1970,1,1)).total_seconds())\n",
    "            end_time = int(((date(int(year), i+2, 1)) - date(1970,1,1)).total_seconds())\n",
    "            temp = []\n",
    "            for j in cursor:\n",
    "                if int(j['time']) > start_time and int(j['time']) < end_time:\n",
    "                    temp.append(j)\n",
    "            usr_profiles = set([i['by'] for i in temp])\n",
    "            mau.append(len(usr_profiles))\n",
    "            print(\"{} {} MAU: {}\".format(months[i], date(int(year),i + 1,1), len(usr_profiles)))\n",
    "    year_count += 1\n",
    "    maus.append(mau)"
   ]
  },
  {
   "cell_type": "code",
   "execution_count": 11,
   "metadata": {},
   "outputs": [
    {
     "data": {
      "text/plain": [
       "[[31115,\n",
       "  32010,\n",
       "  33574,\n",
       "  33165,\n",
       "  33096,\n",
       "  33035,\n",
       "  31478,\n",
       "  32708,\n",
       "  33504,\n",
       "  35150,\n",
       "  36364,\n",
       "  34491],\n",
       " [37146,\n",
       "  35940,\n",
       "  37774,\n",
       "  35862,\n",
       "  35911,\n",
       "  35361,\n",
       "  35978,\n",
       "  37112,\n",
       "  35801,\n",
       "  35957,\n",
       "  36066,\n",
       "  34888],\n",
       " [36103, 34280, 37067, 36904, 36362, 36264, 35837, 36020, 17104, 0, 0, 0]]"
      ]
     },
     "execution_count": 11,
     "metadata": {},
     "output_type": "execute_result"
    }
   ],
   "source": [
    "maus"
   ]
  },
  {
   "cell_type": "markdown",
   "metadata": {},
   "source": [
    "# Plotting"
   ]
  },
  {
   "cell_type": "code",
   "execution_count": 12,
   "metadata": {},
   "outputs": [],
   "source": [
    "from bokeh.io import show \n",
    "from bokeh.io import output_file\n",
    "from bokeh.plotting import figure"
   ]
  },
  {
   "cell_type": "code",
   "execution_count": 21,
   "metadata": {},
   "outputs": [],
   "source": [
    "for i in range(len(maus)):\n",
    "    year = years[i]\n",
    "    count = maus[i]\n",
    "    output_file('mau_{}.html'.format(year))\n",
    "    p = figure(x_range=months, plot_height=400, plot_width=600,\n",
    "               title= \"Monthly Active Users for Year {}\".format(year))\n",
    "    p.xaxis.major_label_text_font_size = \"10pt\"\n",
    "    p.vbar(x=months, top=count, width=0.3)\n",
    "\n",
    "    p.xgrid.grid_line_color = None\n",
    "    p.y_range.start = 0\n",
    "\n",
    "    show(p)"
   ]
  },
  {
   "cell_type": "code",
   "execution_count": 12,
   "metadata": {},
   "outputs": [
    {
     "name": "stderr",
     "output_type": "stream",
     "text": [
      "/home/renjie/anaconda3/lib/python3.6/site-packages/bokeh/models/sources.py:110: BokehUserWarning: ColumnDataSource's columns must be of the same length. Current lengths: ('top', 11), ('x', 12)\n",
      "  \"Current lengths: %s\" % \", \".join(sorted(str((k, len(v))) for k, v in data.items())), BokehUserWarning))\n"
     ]
    }
   ],
   "source": [
    "output_file('mau.html')\n",
    "p = figure(x_range=months, plot_height=1000, plot_width=1600,\n",
    "           title= \"Monthly Active Users\")\n",
    "p.xaxis.major_label_text_font_size = \"14pt\"\n",
    "p.vbar(x=months, top=count, width=0.5)\n",
    "\n",
    "p.xgrid.grid_line_color = None\n",
    "p.y_range.start = 0\n",
    "\n",
    "show(p)"
   ]
  },
  {
   "cell_type": "markdown",
   "metadata": {},
   "source": [
    "# Others"
   ]
  },
  {
   "cell_type": "code",
   "execution_count": 7,
   "metadata": {
    "scrolled": true
   },
   "outputs": [],
   "source": [
    "# cursor = hn_2018.find({'time':{'$gt' : \"1517443200\"}, 'time':{'$lt': \"1519862400\"}})"
   ]
  },
  {
   "cell_type": "code",
   "execution_count": 8,
   "metadata": {},
   "outputs": [],
   "source": [
    "# cursor = hn_2018.find()"
   ]
  },
  {
   "cell_type": "code",
   "execution_count": 9,
   "metadata": {},
   "outputs": [],
   "source": [
    "# temp = []\n",
    "# for i in cursor:\n",
    "#     if int(i['time']) > 1517443200 and int(i['time']) < 1519862400:\n",
    "#         temp.append(i)"
   ]
  },
  {
   "cell_type": "code",
   "execution_count": 11,
   "metadata": {},
   "outputs": [],
   "source": [
    "# usr_profiles = set([i['by'] for i in temp])"
   ]
  },
  {
   "cell_type": "code",
   "execution_count": 13,
   "metadata": {},
   "outputs": [
    {
     "data": {
      "text/plain": [
       "(34280, 209738)"
      ]
     },
     "execution_count": 13,
     "metadata": {},
     "output_type": "execute_result"
    }
   ],
   "source": [
    "# len(usr_profiles), len(temp)"
   ]
  },
  {
   "cell_type": "code",
   "execution_count": 13,
   "metadata": {},
   "outputs": [
    {
     "name": "stdout",
     "output_type": "stream",
     "text": [
      "month: 1\n",
      "active users per month: 31115\n",
      "month: 2\n",
      "active users per month: 32010\n",
      "month: 3\n",
      "active users per month: 33574\n",
      "month: 4\n",
      "active users per month: 33165\n",
      "month: 5\n",
      "active users per month: 33096\n",
      "month: 6\n",
      "active users per month: 33035\n",
      "month: 7\n",
      "active users per month: 31478\n",
      "month: 8\n",
      "active users per month: 32708\n",
      "month: 9\n",
      "active users per month: 33504\n",
      "month: 10\n",
      "active users per month: 35150\n",
      "month: 11\n",
      "active users per month: 36364\n"
     ]
    }
   ],
   "source": [
    "# fix this\n",
    "count = []\n",
    "for i in range(1,12):\n",
    "    cursor = collections[0].find()\n",
    "    print(\"month: {}\".format(i))\n",
    "    start_month = int((date(2016,i,1)- date(1970,1,1)).total_seconds())\n",
    "    end_month = int((date(2016,i+1,1)- date(1970,1,1)).total_seconds())\n",
    "    temp = []\n",
    "    for i in cursor:\n",
    "        if int(i['time']) > start_month and int(i['time']) < end_month:\n",
    "            temp.append(i)\n",
    "    usr_profiles = set([i['by'] for i in temp])\n",
    "    print(\"active users per month: {}\".format(len(usr_profiles)))\n",
    "    count.append(len(usr_profiles))"
   ]
  },
  {
   "cell_type": "code",
   "execution_count": null,
   "metadata": {},
   "outputs": [],
   "source": []
  }
 ],
 "metadata": {
  "kernelspec": {
   "display_name": "Python 3",
   "language": "python",
   "name": "python3"
  },
  "language_info": {
   "codemirror_mode": {
    "name": "ipython",
    "version": 3
   },
   "file_extension": ".py",
   "mimetype": "text/x-python",
   "name": "python",
   "nbconvert_exporter": "python",
   "pygments_lexer": "ipython3",
   "version": "3.6.4"
  }
 },
 "nbformat": 4,
 "nbformat_minor": 2
}
