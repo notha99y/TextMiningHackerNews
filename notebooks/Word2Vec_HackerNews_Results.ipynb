{
 "cells": [
  {
   "cell_type": "markdown",
   "metadata": {},
   "source": [
    "# Applying Word2Vec on HackerNews\n",
    "## Assumptions\n",
    "This notebook assumes the following:\n",
    "- This script assumes that the collection is stored by years\n",
    "- Currently, we hardcode the years to 2016, 2017, 2018 which fits the scope of the project\n",
    "\n",
    "## Requirements\n",
    "In order to run the notebook, you have to do the following:\n",
    "- source activate hackernews\n",
    "- import the data into MongoDB <br>\n",
    "```mongoimport --db HackerNews --collections hn_{{ $year }} {{ $year }}.fmt```\n",
    "\n",
    "## Sources\n",
    "https://rare-technologies.com/word2vec-tutorial/"
   ]
  },
  {
   "cell_type": "markdown",
   "metadata": {},
   "source": [
    "# Word2Vec Results"
   ]
  },
  {
   "cell_type": "code",
   "execution_count": 1,
   "metadata": {},
   "outputs": [],
   "source": [
    "from gensim.models import Word2Vec"
   ]
  },
  {
   "cell_type": "code",
   "execution_count": 2,
   "metadata": {},
   "outputs": [],
   "source": [
    "w2v_model = Word2Vec.load('model_20161718')"
   ]
  },
  {
   "cell_type": "code",
   "execution_count": 3,
   "metadata": {},
   "outputs": [
    {
     "data": {
      "text/plain": [
       "96769"
      ]
     },
     "execution_count": 3,
     "metadata": {},
     "output_type": "execute_result"
    }
   ],
   "source": [
    "words = w2v_model.wv.vocab\n",
    "len(words)"
   ]
  },
  {
   "cell_type": "code",
   "execution_count": null,
   "metadata": {},
   "outputs": [],
   "source": [
    "words"
   ]
  },
  {
   "cell_type": "code",
   "execution_count": 11,
   "metadata": {
    "scrolled": false
   },
   "outputs": [
    {
     "name": "stderr",
     "output_type": "stream",
     "text": [
      "/home/renjie/anaconda3/lib/python3.6/site-packages/ipykernel_launcher.py:1: DeprecationWarning: Call to deprecated `most_similar` (Method will be removed in 4.0.0, use self.wv.most_similar() instead).\n",
      "  \"\"\"Entry point for launching an IPython kernel.\n",
      "/home/renjie/anaconda3/lib/python3.6/site-packages/gensim/matutils.py:737: FutureWarning: Conversion of the second argument of issubdtype from `int` to `np.signedinteger` is deprecated. In future, it will be treated as `np.int64 == np.dtype(int).type`.\n",
      "  if np.issubdtype(vec.dtype, np.int):\n"
     ]
    },
    {
     "data": {
      "text/plain": [
       "[('vm', 0.7280181646347046),\n",
       " ('linux', 0.7059256434440613),\n",
       " ('chroots', 0.6838865280151367),\n",
       " ('lxd', 0.6769089102745056),\n",
       " ('rancheros', 0.6695564985275269)]"
      ]
     },
     "execution_count": 11,
     "metadata": {},
     "output_type": "execute_result"
    }
   ],
   "source": [
    "w2v_model.most_similar(positive=['docker', 'os'], topn=5)"
   ]
  },
  {
   "cell_type": "code",
   "execution_count": 5,
   "metadata": {
    "scrolled": true
   },
   "outputs": [
    {
     "name": "stderr",
     "output_type": "stream",
     "text": [
      "/home/renjie/anaconda3/lib/python3.6/site-packages/ipykernel_launcher.py:1: DeprecationWarning: Call to deprecated `similarity` (Method will be removed in 4.0.0, use self.wv.similarity() instead).\n",
      "  \"\"\"Entry point for launching an IPython kernel.\n",
      "/home/renjie/anaconda3/lib/python3.6/site-packages/gensim/matutils.py:737: FutureWarning: Conversion of the second argument of issubdtype from `int` to `np.signedinteger` is deprecated. In future, it will be treated as `np.int64 == np.dtype(int).type`.\n",
      "  if np.issubdtype(vec.dtype, np.int):\n"
     ]
    },
    {
     "data": {
      "text/plain": [
       "0.33735788"
      ]
     },
     "execution_count": 5,
     "metadata": {},
     "output_type": "execute_result"
    }
   ],
   "source": [
    "w2v_model.similarity('doctor', 'male')"
   ]
  },
  {
   "cell_type": "code",
   "execution_count": 12,
   "metadata": {
    "scrolled": false
   },
   "outputs": [
    {
     "name": "stderr",
     "output_type": "stream",
     "text": [
      "/home/renjie/anaconda3/lib/python3.6/site-packages/gensim/matutils.py:737: FutureWarning: Conversion of the second argument of issubdtype from `int` to `np.signedinteger` is deprecated. In future, it will be treated as `np.int64 == np.dtype(int).type`.\n",
      "  if np.issubdtype(vec.dtype, np.int):\n"
     ]
    },
    {
     "data": {
      "text/plain": [
       "[('oses', 0.732519268989563),\n",
       " ('macosx', 0.6737253665924072),\n",
       " ('usermode', 0.6693651676177979),\n",
       " ('userland', 0.659410834312439),\n",
       " ('ring0', 0.6555902361869812),\n",
       " ('xmacos', 0.6456476449966431),\n",
       " ('microkernel', 0.6410301327705383),\n",
       " ('chromeos', 0.6395987272262573),\n",
       " ('nextstep', 0.6387742161750793),\n",
       " ('oslevel', 0.6381477117538452),\n",
       " ('userlands', 0.6297509670257568),\n",
       " ('linux', 0.6284586191177368),\n",
       " ('kext', 0.6250098943710327),\n",
       " ('genode', 0.6236993074417114),\n",
       " ('winnt', 0.6209630966186523),\n",
       " ('nonunix', 0.6192915439605713),\n",
       " ('osx', 0.6163003444671631),\n",
       " ('posixy', 0.6157057285308838),\n",
       " ('hypervisor', 0.6135842800140381),\n",
       " ('linuxbsd', 0.6103509664535522),\n",
       " ('linuxbased', 0.6099382638931274),\n",
       " ('unices', 0.6092256903648376),\n",
       " ('openstep', 0.6082422137260437),\n",
       " ('distrosi', 0.6082149744033813),\n",
       " ('keykos', 0.6048111915588379),\n",
       " ('windows', 0.6025958061218262),\n",
       " ('kernel', 0.6017416715621948),\n",
       " ('virtualisation', 0.6009407043457031),\n",
       " ('linuxwindows', 0.6005334854125977),\n",
       " ('kerneli', 0.5992392897605896)]"
      ]
     },
     "execution_count": 12,
     "metadata": {},
     "output_type": "execute_result"
    }
   ],
   "source": [
    "similar = w2v_model.wv.most_similar('os', topn=30)\n",
    "similar"
   ]
  },
  {
   "cell_type": "markdown",
   "metadata": {},
   "source": [
    "# Getting data\n",
    "## Connecting to MongoDB"
   ]
  },
  {
   "cell_type": "code",
   "execution_count": 13,
   "metadata": {},
   "outputs": [],
   "source": [
    "from pymongo import MongoClient"
   ]
  },
  {
   "cell_type": "code",
   "execution_count": 14,
   "metadata": {},
   "outputs": [],
   "source": [
    "client = MongoClient()\n",
    "db = client.HackerNews"
   ]
  },
  {
   "cell_type": "code",
   "execution_count": 15,
   "metadata": {},
   "outputs": [],
   "source": [
    "hn_2016 = db.hn_2016"
   ]
  },
  {
   "cell_type": "code",
   "execution_count": 17,
   "metadata": {},
   "outputs": [
    {
     "data": {
      "text/plain": [
       "{'_id': ObjectId('5b98b7d9116cc408a06171ba'),\n",
       " 'by': 'cm2187',\n",
       " 'id': '12254432',\n",
       " 'parent': '12254396',\n",
       " 'text': 'And the company has no idea of whether the person being hire is as good as he pretends to be. This uncertainty goes both ways.',\n",
       " 'time': '1470750510',\n",
       " 'timestamp': '2016-08-09 13:48:30 UTC',\n",
       " 'title': '',\n",
       " 'type': 'comment',\n",
       " 'url': ''}"
      ]
     },
     "execution_count": 17,
     "metadata": {},
     "output_type": "execute_result"
    }
   ],
   "source": [
    "cursor = hn_2016.find_one()\n",
    "cursor"
   ]
  },
  {
   "cell_type": "code",
   "execution_count": 12,
   "metadata": {},
   "outputs": [],
   "source": [
    "cursor = hn_2016.find()"
   ]
  },
  {
   "cell_type": "markdown",
   "metadata": {},
   "source": [
    "## Filtering via months"
   ]
  },
  {
   "cell_type": "code",
   "execution_count": 6,
   "metadata": {},
   "outputs": [],
   "source": [
    "from datetime import date"
   ]
  },
  {
   "cell_type": "code",
   "execution_count": 7,
   "metadata": {},
   "outputs": [],
   "source": [
    "epoch_dt = date(1970, 1,1)"
   ]
  },
  {
   "cell_type": "code",
   "execution_count": 8,
   "metadata": {},
   "outputs": [],
   "source": [
    "months = {'jan': 1,\n",
    "         'feb': 2,\n",
    "         'mar': 3,\n",
    "         'apr': 4,\n",
    "         'may': 5,\n",
    "         'jun': 6,\n",
    "         'jul': 7,\n",
    "         'aug': 8,\n",
    "         'sep': 9,\n",
    "         'oct': 10,\n",
    "         'nov': 11,\n",
    "         'dec': 12}"
   ]
  },
  {
   "cell_type": "code",
   "execution_count": 10,
   "metadata": {},
   "outputs": [
    {
     "data": {
      "text/plain": [
       "(1451606400, 1452211200)"
      ]
     },
     "execution_count": 10,
     "metadata": {},
     "output_type": "execute_result"
    }
   ],
   "source": [
    "month_interested = 'jan'\n",
    "month = months[month_interested]\n",
    "start_time = int((date(2016, month, 1) - epoch_dt).total_seconds()) \n",
    "end_time = int((date(2016, month, 1+7) - epoch_dt).total_seconds())\n",
    "\n",
    "start_time, end_time"
   ]
  },
  {
   "cell_type": "code",
   "execution_count": 5,
   "metadata": {},
   "outputs": [
    {
     "data": {
      "text/plain": [
       "{'_id': ObjectId('5b98b7d9116cc408a06171ba'),\n",
       " 'by': 'cm2187',\n",
       " 'id': '12254432',\n",
       " 'parent': '12254396',\n",
       " 'text': 'And the company has no idea of whether the person being hire is as good as he pretends to be. This uncertainty goes both ways.',\n",
       " 'time': '1470750510',\n",
       " 'timestamp': '2016-08-09 13:48:30 UTC',\n",
       " 'title': '',\n",
       " 'type': 'comment',\n",
       " 'url': ''}"
      ]
     },
     "execution_count": 5,
     "metadata": {},
     "output_type": "execute_result"
    }
   ],
   "source": [
    "cursor = hn_2016.find_one()\n",
    "cursor"
   ]
  },
  {
   "cell_type": "markdown",
   "metadata": {},
   "source": [
    "## Getting the text"
   ]
  },
  {
   "cell_type": "code",
   "execution_count": 13,
   "metadata": {},
   "outputs": [],
   "source": [
    "# entries = []\n",
    "entries_text = []\n",
    "for entry in cursor:\n",
    "    if int(entry['time']) > start_time and int(entry['time']) < end_time:\n",
    "#         entries.append(entry)\n",
    "        entries_text.append(entry['text'])"
   ]
  },
  {
   "cell_type": "code",
   "execution_count": 14,
   "metadata": {
    "scrolled": true
   },
   "outputs": [
    {
     "name": "stdout",
     "output_type": "stream",
     "text": [
      "41301\n"
     ]
    }
   ],
   "source": [
    "print(len(entries_text))"
   ]
  },
  {
   "cell_type": "markdown",
   "metadata": {},
   "source": [
    "## Cleaning up the text\n",
    "1) takes in unclean text <br>\n",
    "2) clean(text) <br>\n",
    "    - unescape, remove tags, unneccessary spaces, decontracted\n",
    "3) sent_tokenize <br>\n",
    "4) clean_2 <br>\n",
    "5) word_tokenize <br>\n",
    "6) clean_3 <br>\n",
    "    - stopwords removal, pos_tag, only accept noun, verb, adj, adv, and lemmatize noun and verb"
   ]
  },
  {
   "cell_type": "code",
   "execution_count": 15,
   "metadata": {},
   "outputs": [],
   "source": [
    "import string\n",
    "import re\n",
    "import html\n",
    "import nltk\n",
    "from nltk.corpus import stopwords"
   ]
  },
  {
   "cell_type": "code",
   "execution_count": 16,
   "metadata": {},
   "outputs": [],
   "source": [
    "def clean(text):\n",
    "    clean_text = html.unescape(text)\n",
    "    clean_text = re.sub(r'\\\\n', ' ', clean_text)\n",
    "    clean_text = re.sub(r'<a.*</a>',' ', clean_text)\n",
    "    clean_text = re.sub(r'<p.*</p>', ' ', clean_text)\n",
    "    clean_text = re.sub(r'<.?>', ' ', clean_text)\n",
    "    clean_text = re.sub(r'</.?>', ' ', clean_text)\n",
    "    clean_text = re.sub(r'\\s+', ' ', clean_text)\n",
    "    def decontracted(phrase):\n",
    "        # specific\n",
    "        phrase = re.sub(r\"won't\", \"will not\", phrase)\n",
    "        phrase = re.sub(r\"can\\'t\", \"can not\", phrase)\n",
    "\n",
    "        # general\n",
    "        phrase = re.sub(r\"n\\'t\", \" not\", phrase)\n",
    "        phrase = re.sub(r\"\\'re\", \" are\", phrase)\n",
    "        phrase = re.sub(r\"\\'s\", \" is\", phrase)\n",
    "        phrase = re.sub(r\"\\'d\", \" would\", phrase)\n",
    "        phrase = re.sub(r\"\\'ll\", \" will\", phrase)\n",
    "        phrase = re.sub(r\"\\'t\", \" not\", phrase)\n",
    "        phrase = re.sub(r\"\\'ve\", \" have\", phrase)\n",
    "        phrase = re.sub(r\"\\'m\", \" am\", phrase)\n",
    "        return phrase\n",
    "    clean_text = decontracted(clean_text)\n",
    "    return clean_text\n",
    "\n",
    "def clean_2(text):\n",
    "    # remove punctuations\n",
    "    regex = re.compile('[%s]' % re.escape(string.punctuation))\n",
    "    clean_text = regex.sub('', text)\n",
    "    return clean_text\n",
    "\n",
    "def clean_3(tokens):\n",
    "    clean_tokens = [token for token in tokens if token not in stopwords.words('english')]\n",
    "    pos = nltk.pos_tag(clean_tokens, tagset='universal')\n",
    "    wnl = nltk.WordNetLemmatizer()\n",
    "    new_tokens = []\n",
    "    accepted_pos = ['NOUN', 'VERB', 'ADJ','ADV']\n",
    "    to_lemmatize = ['NOUN', 'VERB']\n",
    "    change_dict = {'NOUN':'n',\n",
    "                 'VERB':'v',\n",
    "                 'ADJ':'a',\n",
    "                 'ADV':'r'}\n",
    "    for i in pos:\n",
    "        if i[-1] in accepted_pos:\n",
    "            temp = i[0]\n",
    "            if i[-1] in to_lemmatize:\n",
    "                temp = wnl.lemmatize(temp, pos = change_dict[i[-1]])\n",
    "            temp.lower()\n",
    "            new_tokens.append(temp.lower())\n",
    "    return new_tokens"
   ]
  }
 ],
 "metadata": {
  "kernelspec": {
   "display_name": "Python 3",
   "language": "python",
   "name": "python3"
  },
  "language_info": {
   "codemirror_mode": {
    "name": "ipython",
    "version": 3
   },
   "file_extension": ".py",
   "mimetype": "text/x-python",
   "name": "python",
   "nbconvert_exporter": "python",
   "pygments_lexer": "ipython3",
   "version": "3.6.4"
  }
 },
 "nbformat": 4,
 "nbformat_minor": 2
}
